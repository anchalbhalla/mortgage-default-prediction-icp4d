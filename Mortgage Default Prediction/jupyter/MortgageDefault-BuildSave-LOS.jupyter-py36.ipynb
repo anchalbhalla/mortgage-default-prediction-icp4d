{
 "cells": [
  {
   "cell_type": "markdown",
   "metadata": {},
   "source": [
    "<table style=\"border: none\" align=\"left\">\n",
    "   <tr style=\"border: none\">\n",
    "      <th style=\"border: none\"><font face=\"verdana\" size=\"5\" color=\"black\"><b>Mortgage Default Prediction</b></th>\n",
    "      \n",
    "   </tr>\n",
    "</table>"
   ]
  },
  {
   "cell_type": "markdown",
   "metadata": {},
   "source": [
    "### Step 1: Download Data as Spark Dataframe from Local Storage"
   ]
  },
  {
   "cell_type": "markdown",
   "metadata": {},
   "source": [
    "Read the three Mortgage files from local storage - Insert them as SPARK Dataframes"
   ]
  },
  {
   "cell_type": "code",
   "execution_count": 12,
   "metadata": {},
   "outputs": [],
   "source": [
    "import os\n",
    "from pyspark.sql import SQLContext\n",
    "# Add asset from file system\n",
    "df_data_1 = SQLContext(sc).read.csv(os.environ['DSX_PROJECT_DIR']+'/datasets/MortgageCustomer.csv', header='true', inferSchema = 'true')"
   ]
  },
  {
   "cell_type": "code",
   "execution_count": 13,
   "metadata": {},
   "outputs": [],
   "source": [
    "# Add asset from file system\n",
    "df_data_2 = SQLContext(sc).read.csv(os.environ['DSX_PROJECT_DIR']+'/datasets/Property.csv', header='true', inferSchema = 'true')"
   ]
  },
  {
   "cell_type": "code",
   "execution_count": 14,
   "metadata": {},
   "outputs": [],
   "source": [
    "# Add asset from file system\n",
    "df_data_3 = SQLContext(sc).read.csv(os.environ['DSX_PROJECT_DIR']+'/datasets/Default.csv', header='true', inferSchema = 'true')"
   ]
  },
  {
   "cell_type": "code",
   "execution_count": 15,
   "metadata": {},
   "outputs": [],
   "source": [
    "customer = df_data_1\n",
    "property = df_data_2\n",
    "default = df_data_3"
   ]
  },
  {
   "cell_type": "code",
   "execution_count": 16,
   "metadata": {},
   "outputs": [
    {
     "data": {
      "text/plain": [
       "DataFrame[ID: double, MortgageDefault: string]"
      ]
     },
     "execution_count": 16,
     "metadata": {},
     "output_type": "execute_result"
    }
   ],
   "source": [
    "customer.cache()\n",
    "property.cache()\n",
    "default.cache()"
   ]
  },
  {
   "cell_type": "markdown",
   "metadata": {},
   "source": [
    "View the data within the three data frames created above. "
   ]
  },
  {
   "cell_type": "code",
   "execution_count": 17,
   "metadata": {},
   "outputs": [
    {
     "name": "stdout",
     "output_type": "stream",
     "text": [
      "+--------+-------+-------------+--------------+----------------------+-------------------------+---------------+---------------+-----+-----------+\n",
      "|      ID| Income|AppliedOnline|     Residence|Yrs at Current Address|Yrs with Current Employer|Number of Cards|Creditcard Debt|Loans|Loan Amount|\n",
      "+--------+-------+-------------+--------------+----------------------+-------------------------+---------------+---------------+-----+-----------+\n",
      "|100522.0|43982.0|          YES|Owner Occupier|                  13.0|                     11.0|            2.0|         1055.0|  0.0|     9405.0|\n",
      "|101756.0|59944.0|          YES|Owner Occupier|                  20.0|                     11.0|            2.0|         3894.0|  0.0|     9880.0|\n",
      "|101354.0|57718.0|          YES|Owner Occupier|                  25.0|                     16.0|            2.0|         1555.0|  1.0|     6285.0|\n",
      "|100512.0|45621.0|          YES|Owner Occupier|                   1.0|                     19.0|            1.0|         1878.0|  0.0|     9260.0|\n",
      "|100537.0|45081.0|           NO|Owner Occupier|                  14.0|                     15.0|            2.0|          713.0|  1.0|     8430.0|\n",
      "+--------+-------+-------------+--------------+----------------------+-------------------------+---------------+---------------+-----+-----------+\n",
      "only showing top 5 rows\n",
      "\n"
     ]
    }
   ],
   "source": [
    "customer.show(5)\n",
    "#property.show(5)\n",
    "#default.show(5)"
   ]
  },
  {
   "cell_type": "markdown",
   "metadata": {},
   "source": [
    "### Step 2: Merge Files"
   ]
  },
  {
   "cell_type": "code",
   "execution_count": 18,
   "metadata": {},
   "outputs": [
    {
     "data": {
      "text/html": [
       "<div>\n",
       "<style scoped>\n",
       "    .dataframe tbody tr th:only-of-type {\n",
       "        vertical-align: middle;\n",
       "    }\n",
       "\n",
       "    .dataframe tbody tr th {\n",
       "        vertical-align: top;\n",
       "    }\n",
       "\n",
       "    .dataframe thead th {\n",
       "        text-align: right;\n",
       "    }\n",
       "</style>\n",
       "<table border=\"1\" class=\"dataframe\">\n",
       "  <thead>\n",
       "    <tr style=\"text-align: right;\">\n",
       "      <th></th>\n",
       "      <th>ID</th>\n",
       "      <th>Income</th>\n",
       "      <th>AppliedOnline</th>\n",
       "      <th>Residence</th>\n",
       "      <th>Yrs at Current Address</th>\n",
       "      <th>Yrs with Current Employer</th>\n",
       "      <th>Number of Cards</th>\n",
       "      <th>Creditcard Debt</th>\n",
       "      <th>Loans</th>\n",
       "      <th>Loan Amount</th>\n",
       "      <th>SalePrice</th>\n",
       "      <th>Location</th>\n",
       "      <th>MortgageDefault</th>\n",
       "    </tr>\n",
       "  </thead>\n",
       "  <tbody>\n",
       "    <tr>\n",
       "      <th>0</th>\n",
       "      <td>100522.0</td>\n",
       "      <td>43982.0</td>\n",
       "      <td>YES</td>\n",
       "      <td>Owner Occupier</td>\n",
       "      <td>13.0</td>\n",
       "      <td>11.0</td>\n",
       "      <td>2.0</td>\n",
       "      <td>1055.0</td>\n",
       "      <td>0.0</td>\n",
       "      <td>9405.0</td>\n",
       "      <td>500000</td>\n",
       "      <td>110</td>\n",
       "      <td>NO</td>\n",
       "    </tr>\n",
       "    <tr>\n",
       "      <th>1</th>\n",
       "      <td>101756.0</td>\n",
       "      <td>59944.0</td>\n",
       "      <td>YES</td>\n",
       "      <td>Owner Occupier</td>\n",
       "      <td>20.0</td>\n",
       "      <td>11.0</td>\n",
       "      <td>2.0</td>\n",
       "      <td>3894.0</td>\n",
       "      <td>0.0</td>\n",
       "      <td>9880.0</td>\n",
       "      <td>750000</td>\n",
       "      <td>110</td>\n",
       "      <td>NO</td>\n",
       "    </tr>\n",
       "    <tr>\n",
       "      <th>2</th>\n",
       "      <td>101354.0</td>\n",
       "      <td>57718.0</td>\n",
       "      <td>YES</td>\n",
       "      <td>Owner Occupier</td>\n",
       "      <td>25.0</td>\n",
       "      <td>16.0</td>\n",
       "      <td>2.0</td>\n",
       "      <td>1555.0</td>\n",
       "      <td>1.0</td>\n",
       "      <td>6285.0</td>\n",
       "      <td>155000</td>\n",
       "      <td>130</td>\n",
       "      <td>YES</td>\n",
       "    </tr>\n",
       "    <tr>\n",
       "      <th>3</th>\n",
       "      <td>100512.0</td>\n",
       "      <td>45621.0</td>\n",
       "      <td>YES</td>\n",
       "      <td>Owner Occupier</td>\n",
       "      <td>1.0</td>\n",
       "      <td>19.0</td>\n",
       "      <td>1.0</td>\n",
       "      <td>1878.0</td>\n",
       "      <td>0.0</td>\n",
       "      <td>9260.0</td>\n",
       "      <td>195000</td>\n",
       "      <td>100</td>\n",
       "      <td>YES</td>\n",
       "    </tr>\n",
       "    <tr>\n",
       "      <th>4</th>\n",
       "      <td>100537.0</td>\n",
       "      <td>45081.0</td>\n",
       "      <td>NO</td>\n",
       "      <td>Owner Occupier</td>\n",
       "      <td>14.0</td>\n",
       "      <td>15.0</td>\n",
       "      <td>2.0</td>\n",
       "      <td>713.0</td>\n",
       "      <td>1.0</td>\n",
       "      <td>8430.0</td>\n",
       "      <td>140000</td>\n",
       "      <td>110</td>\n",
       "      <td>NO</td>\n",
       "    </tr>\n",
       "  </tbody>\n",
       "</table>\n",
       "</div>"
      ],
      "text/plain": [
       "         ID   Income AppliedOnline       Residence  Yrs at Current Address  \\\n",
       "0  100522.0  43982.0           YES  Owner Occupier                    13.0   \n",
       "1  101756.0  59944.0           YES  Owner Occupier                    20.0   \n",
       "2  101354.0  57718.0           YES  Owner Occupier                    25.0   \n",
       "3  100512.0  45621.0           YES  Owner Occupier                     1.0   \n",
       "4  100537.0  45081.0            NO  Owner Occupier                    14.0   \n",
       "\n",
       "   Yrs with Current Employer  Number of Cards  Creditcard Debt  Loans  \\\n",
       "0                       11.0              2.0           1055.0    0.0   \n",
       "1                       11.0              2.0           3894.0    0.0   \n",
       "2                       16.0              2.0           1555.0    1.0   \n",
       "3                       19.0              1.0           1878.0    0.0   \n",
       "4                       15.0              2.0            713.0    1.0   \n",
       "\n",
       "   Loan Amount  SalePrice  Location MortgageDefault  \n",
       "0       9405.0     500000       110              NO  \n",
       "1       9880.0     750000       110              NO  \n",
       "2       6285.0     155000       130             YES  \n",
       "3       9260.0     195000       100             YES  \n",
       "4       8430.0     140000       110              NO  "
      ]
     },
     "execution_count": 18,
     "metadata": {},
     "output_type": "execute_result"
    }
   ],
   "source": [
    "# Join the Customer, Property and Default tables together with ID being the key field.\n",
    "# Keep all fields from the Customer and Default tables but only SalePrice and Location from the Property table\n",
    "\n",
    "merged = customer.join(property, customer['ID'] == property['ID'])\\\n",
    "                   .join(default, customer['ID']==default['ID'])\\\n",
    "                   .select(customer['ID'],customer['Income'],customer['AppliedOnline'],customer['Residence'],\\\n",
    "                           customer['Yrs at Current Address'],customer['Yrs with Current Employer'],customer['Number of Cards'],\\\n",
    "                           customer['Creditcard Debt'],customer['Loans'],customer['Loan Amount'],\\\n",
    "                           property['SalePrice'], property['Location'], default['MortgageDefault'])\n",
    "\n",
    "# Preview  5 rows\n",
    "merged.toPandas().head()"
   ]
  },
  {
   "cell_type": "markdown",
   "metadata": {},
   "source": [
    "### Step 3: Simple Data Preparation - Rename some columns and ensure correct data types \n",
    "This step is to remove spaces from columns names"
   ]
  },
  {
   "cell_type": "code",
   "execution_count": 19,
   "metadata": {},
   "outputs": [
    {
     "data": {
      "text/html": [
       "<div>\n",
       "<style scoped>\n",
       "    .dataframe tbody tr th:only-of-type {\n",
       "        vertical-align: middle;\n",
       "    }\n",
       "\n",
       "    .dataframe tbody tr th {\n",
       "        vertical-align: top;\n",
       "    }\n",
       "\n",
       "    .dataframe thead th {\n",
       "        text-align: right;\n",
       "    }\n",
       "</style>\n",
       "<table border=\"1\" class=\"dataframe\">\n",
       "  <thead>\n",
       "    <tr style=\"text-align: right;\">\n",
       "      <th></th>\n",
       "      <th>ID</th>\n",
       "      <th>Income</th>\n",
       "      <th>AppliedOnline</th>\n",
       "      <th>Residence</th>\n",
       "      <th>YearCurrentAddress</th>\n",
       "      <th>YearsCurrentEmployer</th>\n",
       "      <th>NumberOfCards</th>\n",
       "      <th>CCDebt</th>\n",
       "      <th>Loans</th>\n",
       "      <th>LoanAmount</th>\n",
       "      <th>SalePrice</th>\n",
       "      <th>Location</th>\n",
       "      <th>MortgageDefault</th>\n",
       "    </tr>\n",
       "  </thead>\n",
       "  <tbody>\n",
       "    <tr>\n",
       "      <th>0</th>\n",
       "      <td>100522.0</td>\n",
       "      <td>43982.0</td>\n",
       "      <td>YES</td>\n",
       "      <td>Owner Occupier</td>\n",
       "      <td>13.0</td>\n",
       "      <td>11.0</td>\n",
       "      <td>2.0</td>\n",
       "      <td>1055.0</td>\n",
       "      <td>0.0</td>\n",
       "      <td>9405.0</td>\n",
       "      <td>500000</td>\n",
       "      <td>110</td>\n",
       "      <td>NO</td>\n",
       "    </tr>\n",
       "    <tr>\n",
       "      <th>1</th>\n",
       "      <td>101756.0</td>\n",
       "      <td>59944.0</td>\n",
       "      <td>YES</td>\n",
       "      <td>Owner Occupier</td>\n",
       "      <td>20.0</td>\n",
       "      <td>11.0</td>\n",
       "      <td>2.0</td>\n",
       "      <td>3894.0</td>\n",
       "      <td>0.0</td>\n",
       "      <td>9880.0</td>\n",
       "      <td>750000</td>\n",
       "      <td>110</td>\n",
       "      <td>NO</td>\n",
       "    </tr>\n",
       "    <tr>\n",
       "      <th>2</th>\n",
       "      <td>101354.0</td>\n",
       "      <td>57718.0</td>\n",
       "      <td>YES</td>\n",
       "      <td>Owner Occupier</td>\n",
       "      <td>25.0</td>\n",
       "      <td>16.0</td>\n",
       "      <td>2.0</td>\n",
       "      <td>1555.0</td>\n",
       "      <td>1.0</td>\n",
       "      <td>6285.0</td>\n",
       "      <td>155000</td>\n",
       "      <td>130</td>\n",
       "      <td>YES</td>\n",
       "    </tr>\n",
       "  </tbody>\n",
       "</table>\n",
       "</div>"
      ],
      "text/plain": [
       "         ID   Income AppliedOnline       Residence  YearCurrentAddress  \\\n",
       "0  100522.0  43982.0           YES  Owner Occupier                13.0   \n",
       "1  101756.0  59944.0           YES  Owner Occupier                20.0   \n",
       "2  101354.0  57718.0           YES  Owner Occupier                25.0   \n",
       "\n",
       "   YearsCurrentEmployer  NumberOfCards  CCDebt  Loans  LoanAmount  SalePrice  \\\n",
       "0                  11.0            2.0  1055.0    0.0      9405.0     500000   \n",
       "1                  11.0            2.0  3894.0    0.0      9880.0     750000   \n",
       "2                  16.0            2.0  1555.0    1.0      6285.0     155000   \n",
       "\n",
       "   Location MortgageDefault  \n",
       "0       110              NO  \n",
       "1       110              NO  \n",
       "2       130             YES  "
      ]
     },
     "execution_count": 19,
     "metadata": {},
     "output_type": "execute_result"
    }
   ],
   "source": [
    "merged = merged.withColumnRenamed(\"Yrs at Current Address\", \"YearCurrentAddress\").withColumnRenamed(\"Yrs with Current Employer\",\"YearsCurrentEmployer\")\\\n",
    "                .withColumnRenamed(\"Number of Cards\",\"NumberOfCards\").withColumnRenamed(\"Creditcard Debt\",\"CCDebt\").withColumnRenamed(\"Loan Amount\", \"LoanAmount\")\n",
    "merged.toPandas().head(3)"
   ]
  },
  {
   "cell_type": "markdown",
   "metadata": {},
   "source": [
    "Check data types and re-cast numeric fields to **Integers**"
   ]
  },
  {
   "cell_type": "code",
   "execution_count": 20,
   "metadata": {},
   "outputs": [
    {
     "data": {
      "text/plain": [
       "[('ID', 'double'),\n",
       " ('Income', 'double'),\n",
       " ('AppliedOnline', 'string'),\n",
       " ('Residence', 'string'),\n",
       " ('YearCurrentAddress', 'double'),\n",
       " ('YearsCurrentEmployer', 'double'),\n",
       " ('NumberOfCards', 'double'),\n",
       " ('CCDebt', 'double'),\n",
       " ('Loans', 'double'),\n",
       " ('LoanAmount', 'double'),\n",
       " ('SalePrice', 'int'),\n",
       " ('Location', 'int'),\n",
       " ('MortgageDefault', 'string')]"
      ]
     },
     "execution_count": 20,
     "metadata": {},
     "output_type": "execute_result"
    }
   ],
   "source": [
    "merged.dtypes"
   ]
  },
  {
   "cell_type": "code",
   "execution_count": 21,
   "metadata": {},
   "outputs": [
    {
     "data": {
      "text/plain": [
       "[('ID', 'int'),\n",
       " ('Income', 'int'),\n",
       " ('AppliedOnline', 'string'),\n",
       " ('Residence', 'string'),\n",
       " ('YearCurrentAddress', 'int'),\n",
       " ('YearsCurrentEmployer', 'int'),\n",
       " ('NumberOfCards', 'int'),\n",
       " ('CCDebt', 'int'),\n",
       " ('Loans', 'int'),\n",
       " ('LoanAmount', 'int'),\n",
       " ('SalePrice', 'int'),\n",
       " ('Location', 'int'),\n",
       " ('MortgageDefault', 'string')]"
      ]
     },
     "execution_count": 21,
     "metadata": {},
     "output_type": "execute_result"
    }
   ],
   "source": [
    "merged = merged.select(merged.ID.cast(\"integer\"),merged.Income.cast('integer'),merged.AppliedOnline,merged.Residence,\\\n",
    "                   merged.YearCurrentAddress.cast('integer'),merged.YearsCurrentEmployer.cast('integer'),\\\n",
    "                   merged.NumberOfCards.cast('integer'),merged.CCDebt.cast('integer'),merged.Loans.cast('integer'),\\\n",
    "                   merged.LoanAmount.cast('integer'),merged.SalePrice,merged.Location,merged.MortgageDefault)\n",
    "merged.dtypes"
   ]
  },
  {
   "cell_type": "markdown",
   "metadata": {},
   "source": [
    "### Step 4: Build the Spark pipeline and the Random Forest model\n",
    "\"Pipeline\" is an API in SparkML that's used for building models.\n",
    "Additional information on SparkML: https://spark.apache.org/docs/2.0.2/ml-guide.html"
   ]
  },
  {
   "cell_type": "code",
   "execution_count": 22,
   "metadata": {},
   "outputs": [],
   "source": [
    "from pyspark.ml.feature import StringIndexer, VectorIndexer\n",
    "from pyspark.ml import Pipeline\n",
    "from pyspark.ml.feature import VectorAssembler\n",
    "from pyspark.ml.classification import RandomForestClassifier\n",
    "\n",
    "# Prepare string variables so that they can be used by the algorithm\n",
    "stringIndexer1 = StringIndexer(inputCol='AppliedOnline', outputCol='AppliedOnlineEncoded')\n",
    "stringIndexer2 = StringIndexer(inputCol='Residence',outputCol='ResidenceEncoded')\n",
    "stringIndexer3 = StringIndexer(inputCol='MortgageDefault', outputCol='label')\n",
    "\n",
    "# Instanciate the algorithm\n",
    "rf=RandomForestClassifier(labelCol=\"label\", featuresCol=\"features\")\n",
    "\n",
    "\n",
    "# Pipelines API requires that input variables are passed in  a vector\n",
    "assembler = VectorAssembler(inputCols=[\"Income\", \"AppliedOnlineEncoded\", \"ResidenceEncoded\", \"YearCurrentAddress\", \"YearsCurrentEmployer\", \"NumberOfCards\", \\\n",
    "                                       \"CCDebt\", \"Loans\", \"LoanAmount\", \"SalePrice\", \"Location\"], outputCol=\"features\")\n",
    "\n",
    "pipeline = Pipeline(stages=[stringIndexer1, stringIndexer2, stringIndexer3, assembler, rf])"
   ]
  },
  {
   "cell_type": "code",
   "execution_count": 23,
   "metadata": {},
   "outputs": [],
   "source": [
    "# Split data into train and test datasets\n",
    "train, test = merged.randomSplit([80.0,20.0], seed=6)"
   ]
  },
  {
   "cell_type": "code",
   "execution_count": 27,
   "metadata": {},
   "outputs": [],
   "source": [
    "# Build model based upon the pipeline defined in the above cell\n",
    "model = pipeline.fit(train)"
   ]
  },
  {
   "cell_type": "markdown",
   "metadata": {
    "collapsed": true
   },
   "source": [
    "### Step 6: Score the test data set"
   ]
  },
  {
   "cell_type": "code",
   "execution_count": 30,
   "metadata": {},
   "outputs": [
    {
     "data": {
      "text/html": [
       "<div>\n",
       "<style scoped>\n",
       "    .dataframe tbody tr th:only-of-type {\n",
       "        vertical-align: middle;\n",
       "    }\n",
       "\n",
       "    .dataframe tbody tr th {\n",
       "        vertical-align: top;\n",
       "    }\n",
       "\n",
       "    .dataframe thead th {\n",
       "        text-align: right;\n",
       "    }\n",
       "</style>\n",
       "<table border=\"1\" class=\"dataframe\">\n",
       "  <thead>\n",
       "    <tr style=\"text-align: right;\">\n",
       "      <th></th>\n",
       "      <th>ID</th>\n",
       "      <th>Income</th>\n",
       "      <th>AppliedOnline</th>\n",
       "      <th>Residence</th>\n",
       "      <th>YearCurrentAddress</th>\n",
       "      <th>YearsCurrentEmployer</th>\n",
       "      <th>NumberOfCards</th>\n",
       "      <th>CCDebt</th>\n",
       "      <th>Loans</th>\n",
       "      <th>LoanAmount</th>\n",
       "      <th>SalePrice</th>\n",
       "      <th>Location</th>\n",
       "      <th>MortgageDefault</th>\n",
       "      <th>AppliedOnlineEncoded</th>\n",
       "      <th>ResidenceEncoded</th>\n",
       "      <th>label</th>\n",
       "      <th>features</th>\n",
       "      <th>rawPrediction</th>\n",
       "      <th>probability</th>\n",
       "      <th>prediction</th>\n",
       "    </tr>\n",
       "  </thead>\n",
       "  <tbody>\n",
       "    <tr>\n",
       "      <th>0</th>\n",
       "      <td>100282</td>\n",
       "      <td>45715</td>\n",
       "      <td>YES</td>\n",
       "      <td>Owner Occupier</td>\n",
       "      <td>8</td>\n",
       "      <td>14</td>\n",
       "      <td>2</td>\n",
       "      <td>772</td>\n",
       "      <td>1</td>\n",
       "      <td>12985</td>\n",
       "      <td>137000</td>\n",
       "      <td>100</td>\n",
       "      <td>NO</td>\n",
       "      <td>0.0</td>\n",
       "      <td>0.0</td>\n",
       "      <td>0.0</td>\n",
       "      <td>[45715.0, 0.0, 0.0, 8.0, 14.0, 2.0, 772.0, 1.0...</td>\n",
       "      <td>[14.298486693013132, 5.701513306986869]</td>\n",
       "      <td>[0.7149243346506566, 0.2850756653493435]</td>\n",
       "      <td>0.0</td>\n",
       "    </tr>\n",
       "    <tr>\n",
       "      <th>1</th>\n",
       "      <td>100284</td>\n",
       "      <td>45049</td>\n",
       "      <td>YES</td>\n",
       "      <td>Public Housing</td>\n",
       "      <td>6</td>\n",
       "      <td>16</td>\n",
       "      <td>2</td>\n",
       "      <td>1345</td>\n",
       "      <td>1</td>\n",
       "      <td>9085</td>\n",
       "      <td>280000</td>\n",
       "      <td>110</td>\n",
       "      <td>NO</td>\n",
       "      <td>0.0</td>\n",
       "      <td>2.0</td>\n",
       "      <td>0.0</td>\n",
       "      <td>[45049.0, 0.0, 2.0, 6.0, 16.0, 2.0, 1345.0, 1....</td>\n",
       "      <td>[9.209687987949586, 10.790312012050412]</td>\n",
       "      <td>[0.4604843993974793, 0.5395156006025206]</td>\n",
       "      <td>1.0</td>\n",
       "    </tr>\n",
       "    <tr>\n",
       "      <th>2</th>\n",
       "      <td>100285</td>\n",
       "      <td>44974</td>\n",
       "      <td>YES</td>\n",
       "      <td>Public Housing</td>\n",
       "      <td>14</td>\n",
       "      <td>18</td>\n",
       "      <td>2</td>\n",
       "      <td>2772</td>\n",
       "      <td>0</td>\n",
       "      <td>9515</td>\n",
       "      <td>264000</td>\n",
       "      <td>130</td>\n",
       "      <td>NO</td>\n",
       "      <td>0.0</td>\n",
       "      <td>2.0</td>\n",
       "      <td>0.0</td>\n",
       "      <td>[44974.0, 0.0, 2.0, 14.0, 18.0, 2.0, 2772.0, 0...</td>\n",
       "      <td>[7.9321583794028125, 12.067841620597187]</td>\n",
       "      <td>[0.39660791897014064, 0.6033920810298594]</td>\n",
       "      <td>1.0</td>\n",
       "    </tr>\n",
       "  </tbody>\n",
       "</table>\n",
       "</div>"
      ],
      "text/plain": [
       "       ID  Income AppliedOnline       Residence  YearCurrentAddress  \\\n",
       "0  100282   45715           YES  Owner Occupier                   8   \n",
       "1  100284   45049           YES  Public Housing                   6   \n",
       "2  100285   44974           YES  Public Housing                  14   \n",
       "\n",
       "   YearsCurrentEmployer  NumberOfCards  CCDebt  Loans  LoanAmount  SalePrice  \\\n",
       "0                    14              2     772      1       12985     137000   \n",
       "1                    16              2    1345      1        9085     280000   \n",
       "2                    18              2    2772      0        9515     264000   \n",
       "\n",
       "   Location MortgageDefault  AppliedOnlineEncoded  ResidenceEncoded  label  \\\n",
       "0       100              NO                   0.0               0.0    0.0   \n",
       "1       110              NO                   0.0               2.0    0.0   \n",
       "2       130              NO                   0.0               2.0    0.0   \n",
       "\n",
       "                                            features  \\\n",
       "0  [45715.0, 0.0, 0.0, 8.0, 14.0, 2.0, 772.0, 1.0...   \n",
       "1  [45049.0, 0.0, 2.0, 6.0, 16.0, 2.0, 1345.0, 1....   \n",
       "2  [44974.0, 0.0, 2.0, 14.0, 18.0, 2.0, 2772.0, 0...   \n",
       "\n",
       "                              rawPrediction  \\\n",
       "0   [14.298486693013132, 5.701513306986869]   \n",
       "1   [9.209687987949586, 10.790312012050412]   \n",
       "2  [7.9321583794028125, 12.067841620597187]   \n",
       "\n",
       "                                 probability  prediction  \n",
       "0   [0.7149243346506566, 0.2850756653493435]         0.0  \n",
       "1   [0.4604843993974793, 0.5395156006025206]         1.0  \n",
       "2  [0.39660791897014064, 0.6033920810298594]         1.0  "
      ]
     },
     "execution_count": 30,
     "metadata": {},
     "output_type": "execute_result"
    }
   ],
   "source": [
    "results = model.transform(test)\n",
    "results.toPandas().head(3)"
   ]
  },
  {
   "cell_type": "code",
   "execution_count": 31,
   "metadata": {},
   "outputs": [
    {
     "ename": "NameError",
     "evalue": "name 'BinaryClassificationEvaluator' is not defined",
     "output_type": "error",
     "traceback": [
      "\u001b[0;31m---------------------------------------------------------------------------\u001b[0m",
      "\u001b[0;31mNameError\u001b[0m                                 Traceback (most recent call last)",
      "\u001b[0;32m<ipython-input-31-ddd45e08935c>\u001b[0m in \u001b[0;36m<module>\u001b[0;34m()\u001b[0m\n\u001b[0;32m----> 1\u001b[0;31m \u001b[0mevaluatorRF\u001b[0m \u001b[0;34m=\u001b[0m \u001b[0mBinaryClassificationEvaluator\u001b[0m\u001b[0;34m(\u001b[0m\u001b[0mlabelCol\u001b[0m\u001b[0;34m=\u001b[0m\u001b[0;34m\"label\"\u001b[0m\u001b[0;34m,\u001b[0m \u001b[0mrawPredictionCol\u001b[0m\u001b[0;34m=\u001b[0m\u001b[0;34m\"prediction\"\u001b[0m\u001b[0;34m,\u001b[0m \u001b[0mmetricName\u001b[0m\u001b[0;34m=\u001b[0m\u001b[0;34m\"areaUnderROC\"\u001b[0m\u001b[0;34m)\u001b[0m\u001b[0;34m\u001b[0m\u001b[0m\n\u001b[0m\u001b[1;32m      2\u001b[0m \u001b[0maccuracy\u001b[0m \u001b[0;34m=\u001b[0m \u001b[0mevaluatorRF\u001b[0m\u001b[0;34m.\u001b[0m\u001b[0mevaluate\u001b[0m\u001b[0;34m(\u001b[0m\u001b[0mresults\u001b[0m\u001b[0;34m)\u001b[0m\u001b[0;34m\u001b[0m\u001b[0m\n\u001b[1;32m      3\u001b[0m \u001b[0;34m\u001b[0m\u001b[0m\n\u001b[1;32m      4\u001b[0m \u001b[0mprint\u001b[0m\u001b[0;34m(\u001b[0m\u001b[0;34m\"Accuracy = %g\"\u001b[0m \u001b[0;34m%\u001b[0m \u001b[0maccuracy\u001b[0m\u001b[0;34m)\u001b[0m\u001b[0;34m\u001b[0m\u001b[0m\n",
      "\u001b[0;31mNameError\u001b[0m: name 'BinaryClassificationEvaluator' is not defined"
     ]
    }
   ],
   "source": [
    "evaluatorRF = BinaryClassificationEvaluator(labelCol=\"label\", rawPredictionCol=\"prediction\", metricName=\"areaUnderROC\")\n",
    "accuracy = evaluatorRF.evaluate(results)\n",
    "\n",
    "print(\"Accuracy = %g\" % accuracy)"
   ]
  },
  {
   "cell_type": "markdown",
   "metadata": {},
   "source": [
    "### Step 8: Save Model in ML repository\n"
   ]
  },
  {
   "cell_type": "code",
   "execution_count": null,
   "metadata": {},
   "outputs": [],
   "source": [
    "from dsx_ml.ml import save\n",
    "\n",
    "model_name = \"Predict Mortgage Default model- openscale\"\n",
    "save(name = model_name,\n",
    "     model = model,\n",
    "     algorithm_type = 'Classification',\n",
    "     test_data = test)"
   ]
  },
  {
   "cell_type": "code",
   "execution_count": null,
   "metadata": {},
   "outputs": [],
   "source": []
  }
 ],
 "metadata": {
  "kernelspec": {
   "display_name": "Python3.6",
   "language": "python",
   "name": "python3"
  },
  "language_info": {
   "codemirror_mode": {
    "name": "ipython",
    "version": 3
   },
   "file_extension": ".py",
   "mimetype": "text/x-python",
   "name": "python",
   "nbconvert_exporter": "python",
   "pygments_lexer": "ipython3",
   "version": "3.6.6"
  }
 },
 "nbformat": 4,
 "nbformat_minor": 1
}
